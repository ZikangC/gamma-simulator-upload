{
 "cells": [
  {
   "cell_type": "code",
   "execution_count": 3,
   "id": "3f3b8c6a84406de2",
   "metadata": {
    "ExecuteTime": {
     "end_time": "2023-11-22T09:25:52.099040800Z",
     "start_time": "2023-11-22T09:25:52.093338600Z"
    },
    "collapsed": false,
    "jupyter": {
     "outputs_hidden": false
    }
   },
   "outputs": [],
   "source": [
    "import matplotlib.pyplot as plt\n",
    "import numpy as np\n",
    "from gamma_simulator import gamma_simulator"
   ]
  },
  {
   "cell_type": "code",
   "execution_count": null,
   "id": "f1ec8887-b2f8-4254-94d7-15e3203cc6d0",
   "metadata": {},
   "outputs": [],
   "source": [
    "\n",
    "simulator = gamma_simulator(verbose=True,\n",
    "                            verbose_plots=True,\n",
    "                            energy_histogram='Co-60,0.6,Cs-137,0.25,Ba-131,0.15',\n",
    "                            signal_len=1, # \"analog\" signal of 1 second that are 1e7 samples\n",
    "                            fs=10e6,\n",
    "                            lambda_value=1e4,\n",
    "                            noise_unit='std',\n",
    "                            noise=1e-3,\n",
    "                            dict_size=10,\n",
    "                            seed=42)\n",
    "s = simulator.generate_signal()"
   ]
  },
  {
   "cell_type": "markdown",
   "id": "b398fe0c-2964-4601-8693-c6587bfb4a17",
   "metadata": {},
   "source": [
    "![energy](./energy_spectrum.png)\n",
    "![shapes](./shapes.png)\n",
    "![signal](./signal.png)"
   ]
  },
  {
   "cell_type": "raw",
   "id": "cc32ca9b-bbac-468d-b9ca-79f42ca1b1a5",
   "metadata": {},
   "source": [
    "Loaded spectrum for Co-60,0.6,Cs-137,0.25,Ba-131,0.15 isotope\n",
    "Energy spectrum between 0.07 and 1666.05 keV with 8192 bins\n",
    "Shapes are NOT allowed to exceed the signal boundaries\n",
    "Sampling frequency: 10000000.0 samples per second\n",
    "Signal length is 1 sec that are 10000000 samples\n",
    "Events: 10236 (randomly generated)\n",
    "Activity 10000.000 event per second and actual activity is 10236.000 events per second\n",
    "Normalized lambda value: 1.000e-03 events per sample\n",
    "Shape model: gamma_shape\n",
    "Number of gamma_shape shapes in the dictionary: 10\n",
    "Shape parameters: alpha = 0.1 sec ±1.000e-03 (1000000.00 samples) and neta = 0.01 sec ±1.000e-03 (100000.00 samples) \n",
    "Each shape has a maximum length of 6.180e-05 sec that are 618 samples\n",
    "Rise time is 1.000e-06 sec and fall time is 6.080e-05 sec\n",
    "Duty cycle is given by 0.62 with theoretical pile-up probability of 0.461\n",
    "Actual pile-up probability is 0.470 with 5424 non-pile-up events out of 10236 events\n",
    "Noise level: ±0.001 per sample\n",
    "Measured SNR: 62.36 dB\n",
    "Pre-defined random seed is used: 42\n",
    "\n"
   ]
  }
 ],
 "metadata": {
  "kernelspec": {
   "display_name": "Python 3 (ipykernel)",
   "language": "python",
   "name": "python3"
  },
  "language_info": {
   "codemirror_mode": {
    "name": "ipython",
    "version": 3
   },
   "file_extension": ".py",
   "mimetype": "text/x-python",
   "name": "python",
   "nbconvert_exporter": "python",
   "pygments_lexer": "ipython3",
   "version": "3.10.6"
  }
 },
 "nbformat": 4,
 "nbformat_minor": 5
}
